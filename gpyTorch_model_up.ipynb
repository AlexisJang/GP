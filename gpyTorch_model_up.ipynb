{
 "cells": [
  {
   "cell_type": "code",
   "execution_count": null,
   "metadata": {
    "colab": {
     "base_uri": "https://localhost:8080/"
    },
    "id": "SX4b8gLC6Bl8",
    "outputId": "ffb6fb31-713d-44c3-8708-33f8a767a6a0"
   },
   "outputs": [],
   "source": [
    "# INSTALL PACKAGES\n",
    "# !pip install gpytorch"
   ]
  },
  {
   "cell_type": "code",
   "execution_count": 1,
   "metadata": {
    "id": "0Bae7k8VVGeh"
   },
   "outputs": [],
   "source": [
    "# LOAD PACKAGES\n",
    "import warnings\n",
    "import torch\n",
    "from gpytorch.distributions import base_distributions\n",
    "from gpytorch.functions import log_normal_cdf\n",
    "from gpytorch.likelihoods.likelihood import _OneDimensionalLikelihood\n",
    "from gpytorch.constraints import Positive\n",
    "from gpytorch.kernels import Kernel, ScaleKernel, RBFKernel\n",
    "\n",
    "import numpy as np\n",
    "import pandas as pd\n",
    "import matplotlib.pyplot as plt\n",
    "import scipy.stats as stats\n",
    "from gpytorch.variational import CholeskyVariationalDistribution\n",
    "from gpytorch.variational import VariationalStrategy\n",
    "import gpytorch\n",
    "import time as time"
   ]
  },
  {
   "cell_type": "code",
   "execution_count": 2,
   "metadata": {},
   "outputs": [
    {
     "name": "stdout",
     "output_type": "stream",
     "text": [
      "cuda\n"
     ]
    }
   ],
   "source": [
    "# check GPU availability\n",
    "device = torch.device(\"cuda\" if torch.cuda.is_available() else \"cpu\")\n",
    "print(device)"
   ]
  },
  {
   "cell_type": "code",
   "execution_count": 3,
   "metadata": {},
   "outputs": [],
   "source": [
    "### CLASS DEFINITION AND INITIALIZATION\n",
    "class BinomialLikelihood(_OneDimensionalLikelihood):\n",
    "    r\"\"\"\n",
    "    Implements the Binomial likelihood for count data y between 1 and m.\n",
    "        The Binomial distribution is parameterized by :math:`m > 0`.\n",
    "    We can write the likelihood as:\n",
    "\n",
    "    .. math::\n",
    "        \\begin{equation*}\n",
    "            p(Y=y|f,m)=\\phi(f)^y(1-\\phi(f))^{(m-y)}\n",
    "        \\end{equation*}\n",
    "    \"\"\"\n",
    "\n",
    "# initialize the likelihood with the number of trials\n",
    "    def __init__(self, n_trials):\n",
    "        super().__init__()\n",
    "        self.n_trials = n_trials"
   ]
  },
  {
   "cell_type": "markdown",
   "metadata": {},
   "source": [
    "We first define a new class named `BinomialLilihood`, which inherits from `_OneDimensionalLikelihood`, a base class for one-dimensional likelihoods. \n",
    "\n",
    "We then define a initialization method with the parameter `n_trials`. Recall that our number of trials `m` is an integer greater than 0. We store the number of trials in the variable `self.n_trials`. "
   ]
  },
  {
   "cell_type": "code",
   "execution_count": 5,
   "metadata": {},
   "outputs": [],
   "source": [
    "### FORWARD \n",
    "# transforms function samples into Binomial distribution parameters\n",
    "    def forward(self, function_samples, **kwargs):\n",
    "        output_probs = base_distributions.Normal(0, 1).cdf(function_samples)\n",
    "        print(output_probs.size())\n",
    "        \n",
    "        return base_distributions.Binomial(total_count=self.n_trials, probs=output_probs)"
   ]
  },
  {
   "cell_type": "markdown",
   "metadata": {},
   "source": [
    "\n",
    "The function `forward` computes the likelihood given `function_samples`. The parameter `function_samples` samples from the latent function `f`. `**kwargs` represents additional keyword arguments. We first compute the CDF of a normal distribution by creating a standard normal distribution (`mean=0`, `variance=1`) and computing the CDF at the points specified by `function_samples`. This transforms `function_samples` into probabilities between 0 and 1, which is suitable for the Binomial likelihood's `probs` parameter. To ensure correct dimensionality, we print the shape (size) of the `output_probs` tensor. The function returns a binomial distribution object with 1) `total_count`, a set to the number of trials `self.n_trials`; and 2) `probs`, a set to the computed probabilities from the normal CDF (`output_probs`)."
   ]
  },
  {
   "cell_type": "code",
   "execution_count": null,
   "metadata": {},
   "outputs": [],
   "source": [
    "### LOG MARGINAL \n",
    "# computes the log probability of observations under the marginal distribution\n",
    "    def log_marginal(self, observations, function_dist, *args, **kwargs):\n",
    "        marginal = self.marginal(function_dist, *args, **kwargs)\n",
    "        return marginal.log_prob(observations)"
   ]
  },
  {
   "cell_type": "markdown",
   "metadata": {},
   "source": [
    "The function `log_marginal` computes the logarithm of the marginal probability of the observations given the function distribution. The parameters 1) `observations` represents the observed count data; 2) `function_dist` indicates the distribution over the latent function `f`; and 3) `*args, **kwargs` represent additional positional and keyword arguments. \n",
    "\n",
    "The function calls the `marginal` to compute the marginal distribution based on `function_dist` and any additional arguments. It then returns the log probability of the `observations` under the computed `marginal` distribution. "
   ]
  },
  {
   "cell_type": "code",
   "execution_count": null,
   "metadata": {},
   "outputs": [],
   "source": [
    "### MARGINAL\n",
    "# constructs the marginal Binomial distribution based on the function distribution's \n",
    "# mean and variance\n",
    "    def marginal(self, function_dist, **kwargs):\n",
    "        mean = function_dist.mean\n",
    "        var = function_dist.variance\n",
    "        link = mean.div(torch.sqrt(1 + var))\n",
    "        output_probs = base_distributions.Normal(0, 1).cdf(link)\n",
    "        return base_distributions.Binomial(total_count=self.num_data, probs=output_probs)"
   ]
  },
  {
   "cell_type": "markdown",
   "metadata": {},
   "source": [
    "`marginal` computes the marginal distribution based on the function distribution. After extracting the mean and variance of the `function_dist`, it computes the link function by scaling the mean with the square root of `(1 + variance)`. The purpose of this transformation is to map the function distribution's parameters to the probability space suitable for the Binomial distribution. Similar to the `forward` function defined above, `output_probs` computes the CDF of a standard normal distribution at the transformed `link` values, which gives us probabilities between 0 and 1. The function returns a binomial distribution with 1) `total_count`, a set to `self.num_data`; and 2) `probs`, a set to the computed probabilities `output_probs`."
   ]
  },
  {
   "cell_type": "code",
   "execution_count": null,
   "metadata": {},
   "outputs": [],
   "source": [
    "### EXPECTED LOG PROBABILITY\n",
    "# calculates the expected log probability of observations\n",
    "    def expected_log_prob(self, observations, function_dist, *params, **kwargs):\n",
    "        if torch.any(torch.logical_or(observations.le(-1), observations.ge(self.n_trials+1))):\n",
    "            warnings.warn(\n",
    "                \"BinomialLikelihood.expected_log_prob expects observations with labels in [0, m]. \"\n",
    "                \"Observations <0 or >m are not allowed.\",\n",
    "                DeprecationWarning,\n",
    "            )\n",
    "        else:\n",
    "            for i in range(observations.size(0)):\n",
    "                observations[i] = torch.clamp(observations[i],0,self.n_trials[i])\n",
    "\n",
    "        log_prob_lambda = lambda function_samples: self.n_trials*log_normal_cdf(-function_samples) + \\\n",
    "                observations.mul(log_normal_cdf(function_samples)-log_normal_cdf(-function_samples))\n",
    "        \n",
    "        log_prob = self.quadrature(log_prob_lambda, function_dist)\n",
    "        \n",
    "        return log_prob"
   ]
  },
  {
   "cell_type": "markdown",
   "metadata": {},
   "source": [
    "The function `expected_log_prob` computes the expected log probability of the observations given the function distribution. The `if` statement checks if any observations are less than or equal to -1, or greater than or equal to `self.n_trials + 1`. This is to ensure that all observations lie within the valid range [0, m] for a binomial distribution. If any observations fall outside the valid range (exceeding the number of trials or being negative), we get a deprecation warning. The function iterates over each observation and clamps its value and make sure it lies witin `[0, self.n_trials[i]]`. \n",
    "\n",
    "We also define an inline log probability lambda function that calculates the log probability based on `function_samples`. `self.n_trials * log_normal_cdf(-function_samples)` computes the contribution from the failures and `observations.mul(log_normal_cdf(function_samples) - log_normal_cdf(-function_samples))` computes the contribution from successes. Note that `log_normal_cdf` is a function that computes the logarithm of the normal CDF.\n",
    "\n",
    "Next, `lob_prob` calls the `quadrature` to numerically integrate the `log_prob_lambda` over the `function_dist`. The purpose of this line is to compute the expected log probability by integrating over the uncertainty in the function distribution. \n",
    "\n",
    "The function returns the computed expected log probability. "
   ]
  },
  {
   "cell_type": "code",
   "execution_count": 6,
   "metadata": {
    "id": "q5xTpwZ4VJoP"
   },
   "outputs": [],
   "source": [
    "# # implement Binomial Likelihood\n",
    "# class BinomialLikelihood(_OneDimensionalLikelihood):\n",
    "#     r\"\"\"\n",
    "#     Implements the Binomial likelihood for count data y between 1 and m.\n",
    "#         The Binomial distribution is parameterized by :math:`m > 0`.\n",
    "#     We can write the likelihood as:\n",
    "\n",
    "#     .. math::\n",
    "#         \\begin{equation*}\n",
    "#             p(Y=y|f,m)=\\phi(f)^y(1-\\phi(f))^{(m-y)}\n",
    "#         \\end{equation*}\n",
    "#     \"\"\"\n",
    "\n",
    "# # calculate total number of trials in the Binomial distribution\n",
    "#     def __init__(self, n_trials):\n",
    "#         super().__init__()\n",
    "#         self.n_trials = n_trials\n",
    "\n",
    "# # calculate CDF of a normal distribution with mean 0 and variance 1 at the 'function samples'\n",
    "#     def forward(self, function_samples, **kwargs):\n",
    "#         output_probs = base_distributions.Normal(0, 1).cdf(function_samples)\n",
    "#         print(output_probs.size())\n",
    "        \n",
    "#         return base_distributions.Binomial(total_count=self.n_trials, probs=output_probs)\n",
    "\n",
    "# # calculate the log marginal probabilities given the function distribution\n",
    "#     def log_marginal(self, observations, function_dist, *args, **kwargs):\n",
    "#         marginal = self.marginal(function_dist, *args, **kwargs)\n",
    "#         return marginal.log_prob(observations)\n",
    "\n",
    "# # compute the marginal distribution based on the mean and variance\n",
    "#     def marginal(self, function_dist, **kwargs):\n",
    "#         mean = function_dist.mean\n",
    "#         var = function_dist.variance\n",
    "#         link = mean.div(torch.sqrt(1 + var))\n",
    "#         output_probs = base_distributions.Normal(0, 1).cdf(link)\n",
    "#         return base_distributions.Binomial(total_count=self.num_data, probs=output_probs)\n",
    "\n",
    "# # calculate the expected log probability of observation given the function distribution\n",
    "#     def expected_log_prob(self, observations, function_dist, *params, **kwargs):\n",
    "#         if torch.any(torch.logical_or(observations.le(-1), observations.ge(self.n_trials+1))):\n",
    "#             # Remove after 1.0\n",
    "#             warnings.warn(\n",
    "#                 \"BinomialLikelihood.expected_log_prob expects observations with labels in [0, m]. \"\n",
    "#                 \"Observations <0 or >m are not allowed.\",\n",
    "#                 DeprecationWarning,\n",
    "#             )\n",
    "#         else:\n",
    "#             for i in range(observations.size(0)):\n",
    "#                 observations[i] = torch.clamp(observations[i],0,self.n_trials[i])\n",
    "\n",
    "#         log_prob_lambda = lambda function_samples: self.n_trials*log_normal_cdf(-function_samples) + \\\n",
    "#                 observations.mul(log_normal_cdf(function_samples)-log_normal_cdf(-function_samples))\n",
    "#         log_prob = self.quadrature(log_prob_lambda, function_dist)\n",
    "#         return log_prob"
   ]
  },
  {
   "cell_type": "code",
   "execution_count": 7,
   "metadata": {
    "id": "9mQyzD5tWloa"
   },
   "outputs": [],
   "source": [
    "# IMPLEMENT GP CLASS\n",
    "gpytorch.settings.cholesky_jitter.value = 1e-4\n",
    "\n",
    "class BinomialGPModel(gpytorch.models.ApproximateGP):\n",
    "    def __init__(self, train_x):\n",
    "        variational_distribution = CholeskyVariationalDistribution(train_x.size(0))\n",
    "        variational_strategy = VariationalStrategy(\n",
    "            self, train_x, variational_distribution, learn_inducing_locations=False\n",
    "        )\n",
    "        super(BinomialGPModel, self).__init__(variational_strategy)\n",
    "        self.mean_module = gpytorch.means.LinearMean(input_size=train_x.size(1))\n",
    "        # ARD kernel for covariate, geospatial and time confounding\n",
    "        self.covar_module = gpytorch.kernels.ScaleKernel(\n",
    "            gpytorch.kernels.RBFKernel(ard_num_dims=train_x.size(1)))\n",
    "    \n",
    "    def forward(self, x):\n",
    "        mean_x = self.mean_module(x)\n",
    "        covar_x = self.covar_module(x)\n",
    "        return gpytorch.distributions.MultivariateNormal(mean_x, covar_x)"
   ]
  },
  {
   "cell_type": "markdown",
   "metadata": {},
   "source": [
    "We first add a small jitter to the diagonal of the covariance matrix during Cholesky decomposition. Cholesky decomposition can fail if the covariance matrix is not positive definite. The jitter mitigates this concern by making the matrix strictly positive definite. \n",
    "\n",
    "The `BinomialGPModel` class implements a GP model tailored for binomial likelihoods. It inherits from `gpytorch.models.ApproximateGP` that enables the use of variational inference for scalable GP models. \n",
    "\n",
    "`def __init__(self, train_x)` initializes the GP model with training data. `train_x` represents the input training data, which is a tensor of shape `(n_samples, n_features)`. `variational_distribution` defines the variational distribution that approximates the posterior over the latent function `f`. `CholeskyVariationalDistribution` represents a multivariate Gaussian distribution parameterized by a mean vector and a lower-triangular matrix (Cholesky  factor) for the covariance. `train_x.size(0)` specifies the number of variational parameters based on the number of training samples. \n",
    "\n",
    "`variational_strategy` defines the strategy for variational inference by specifying how the variational distribution interacts with the GP model. `self` refers to the current GP model instance; `train_x` specifies the input of training data; `variational_distribution` represents the variational distribution defined earlier; and `learn_inducing_locations=False` indicates whether the inducing points' locations should be learned during training. By setting it to `False`, we keep them fixed. \n",
    "\n",
    "We initialize the superclass `ApproximateGP` with the defined variational strategy. \n",
    "\n",
    "`self.mean_module` defines the mean function of the GP. `LinearMean` is a linear mean function that models the expected value of the latent function `f` as a linear combination of the input features. `input_size=train_x.size(1)` sets the number of input features based on the training data. \n",
    "\n",
    "`self.cover_module` defines the covariance (kernel) function of the GP. `ard_num_dims=train_x.size(1)` enables Automatic Relevance Determine (ARD) by assigning a separate lengthscale parameters to each input dimension. This allows the model to weigh the importance of each feature. Radial Basis Function (RBF) kernel measures similarity based on the distance between inputs, and Scale Kernel scales the output of the RBF kernel by a learned scalar factor to allow the model to adjust the overall variance. \n",
    "\n",
    "Finally, the `forward` defines the forward pass of the GP model that maps the inputs to a multivariate normal distribution over outputs. `x` is input data for which GP predictions are to be made. Using this, we compute the mean and covariance of the latent function `f`. We apply the linear mean function defined during initialization to the input `x` to compute the mean. This results in a mean vector of shape `(n_samples,)`. When computing the covariance matrix, we apply the scaled RBF kernel with ARD to the input `x`, resulting in a covariance matrix of shape `(n_samples, n_samples)`. \n",
    "\n",
    "The function returns a multivariate normal distribution representing the GP's predictions for the input `x`. "
   ]
  },
  {
   "cell_type": "code",
   "execution_count": 12,
   "metadata": {
    "id": "R-FM23l6K_wf"
   },
   "outputs": [],
   "source": [
    "def transform_data(data):\n",
    "    n = data.shape[0] # number of samples in the dataset\n",
    "    x = np.zeros((n, 6)) # initialize an input matrix with 6 columns\n",
    "\n",
    "    # initialize target variables\n",
    "    y = np.zeros((n,)) \n",
    "    theta = np.zeros((n,))\n",
    "    N = np.zeros((n,))\n",
    "\n",
    "    # encode gender as binary variables\n",
    "    x[:,0] = (data[\"gender\"] == \"Male\")\n",
    "    x[:,1] = (data[\"gender\"] == \"Female\")\n",
    "\n",
    "    # encode race as binary variables\n",
    "    x[:,2] = (data[\"race\"] == \"White\")\n",
    "    x[:,3] = (data[\"race\"] == \"Black\")\n",
    "    x[:,4] = (data[\"race\"] == \"Other\")\n",
    "\n",
    "    # year as a continuous variable\n",
    "    x[:,5] = data[\"year\"].to_numpy()\n",
    "\n",
    "    # extract target variables\n",
    "    theta = data[\"theta\"].to_numpy()\n",
    "    y = data[\"Y\"].to_numpy()\n",
    "    N = data[\"n\"].to_numpy()\n",
    "    \n",
    "    return torch.from_numpy(x).float(), torch.from_numpy(y).float(),\\\n",
    "       torch.from_numpy(N).float(), torch.from_numpy(theta).float()"
   ]
  },
  {
   "cell_type": "code",
   "execution_count": 14,
   "metadata": {},
   "outputs": [
    {
     "name": "stdout",
     "output_type": "stream",
     "text": [
      "Iter 1/200 - Loss: 171.934\n",
      "Iter 2/200 - Loss: 167.304\n",
      "Iter 3/200 - Loss: 162.773\n",
      "Iter 4/200 - Loss: 158.441\n",
      "Iter 5/200 - Loss: 154.287\n",
      "Iter 6/200 - Loss: 150.278\n",
      "Iter 7/200 - Loss: 146.417\n",
      "Iter 8/200 - Loss: 142.721\n",
      "Iter 9/200 - Loss: 139.195\n",
      "Iter 10/200 - Loss: 135.825\n",
      "Iter 11/200 - Loss: 132.609\n",
      "Iter 12/200 - Loss: 129.556\n",
      "Iter 13/200 - Loss: 126.670\n",
      "Iter 14/200 - Loss: 123.945\n",
      "Iter 15/200 - Loss: 121.371\n",
      "Iter 16/200 - Loss: 118.944\n",
      "Iter 17/200 - Loss: 116.665\n",
      "Iter 18/200 - Loss: 114.529\n",
      "Iter 19/200 - Loss: 112.531\n",
      "Iter 20/200 - Loss: 110.662\n",
      "Iter 21/200 - Loss: 108.923\n",
      "Iter 22/200 - Loss: 107.305\n",
      "Iter 23/200 - Loss: 105.804\n",
      "Iter 24/200 - Loss: 104.414\n",
      "Iter 25/200 - Loss: 103.128\n",
      "Iter 26/200 - Loss: 101.940\n",
      "Iter 27/200 - Loss: 100.841\n",
      "Iter 28/200 - Loss: 99.828\n",
      "Iter 29/200 - Loss: 98.896\n",
      "Iter 30/200 - Loss: 98.037\n",
      "Iter 31/200 - Loss: 97.246\n",
      "Iter 32/200 - Loss: 96.517\n",
      "Iter 33/200 - Loss: 95.845\n",
      "Iter 34/200 - Loss: 95.224\n",
      "Iter 35/200 - Loss: 94.652\n",
      "Iter 36/200 - Loss: 94.119\n",
      "Iter 37/200 - Loss: 93.625\n",
      "Iter 38/200 - Loss: 93.164\n",
      "Iter 39/200 - Loss: 92.731\n",
      "Iter 40/200 - Loss: 92.325\n",
      "Iter 41/200 - Loss: 91.943\n",
      "Iter 42/200 - Loss: 91.579\n",
      "Iter 43/200 - Loss: 91.235\n",
      "Iter 44/200 - Loss: 90.907\n",
      "Iter 45/200 - Loss: 90.591\n",
      "Iter 46/200 - Loss: 90.289\n",
      "Iter 47/200 - Loss: 89.997\n",
      "Iter 48/200 - Loss: 89.715\n",
      "Iter 49/200 - Loss: 89.442\n",
      "Iter 50/200 - Loss: 89.179\n",
      "Iter 51/200 - Loss: 88.922\n",
      "Iter 52/200 - Loss: 88.674\n",
      "Iter 53/200 - Loss: 88.433\n",
      "Iter 54/200 - Loss: 88.199\n",
      "Iter 55/200 - Loss: 87.971\n",
      "Iter 56/200 - Loss: 87.751\n",
      "Iter 57/200 - Loss: 87.537\n",
      "Iter 58/200 - Loss: 87.330\n",
      "Iter 59/200 - Loss: 87.130\n",
      "Iter 60/200 - Loss: 86.936\n",
      "Iter 61/200 - Loss: 86.747\n",
      "Iter 62/200 - Loss: 86.567\n",
      "Iter 63/200 - Loss: 86.392\n",
      "Iter 64/200 - Loss: 86.223\n",
      "Iter 65/200 - Loss: 86.060\n",
      "Iter 66/200 - Loss: 85.903\n",
      "Iter 67/200 - Loss: 85.752\n",
      "Iter 68/200 - Loss: 85.607\n",
      "Iter 69/200 - Loss: 85.466\n",
      "Iter 70/200 - Loss: 85.330\n",
      "Iter 71/200 - Loss: 85.200\n",
      "Iter 72/200 - Loss: 85.074\n",
      "Iter 73/200 - Loss: 84.952\n",
      "Iter 74/200 - Loss: 84.835\n",
      "Iter 75/200 - Loss: 84.721\n",
      "Iter 76/200 - Loss: 84.611\n",
      "Iter 77/200 - Loss: 84.504\n",
      "Iter 78/200 - Loss: 84.401\n",
      "Iter 79/200 - Loss: 84.300\n",
      "Iter 80/200 - Loss: 84.203\n",
      "Iter 81/200 - Loss: 84.108\n",
      "Iter 82/200 - Loss: 84.017\n",
      "Iter 83/200 - Loss: 83.927\n",
      "Iter 84/200 - Loss: 83.839\n",
      "Iter 85/200 - Loss: 83.754\n",
      "Iter 86/200 - Loss: 83.671\n",
      "Iter 87/200 - Loss: 83.591\n",
      "Iter 88/200 - Loss: 83.512\n",
      "Iter 89/200 - Loss: 83.435\n",
      "Iter 90/200 - Loss: 83.359\n",
      "Iter 91/200 - Loss: 83.285\n",
      "Iter 92/200 - Loss: 83.213\n",
      "Iter 93/200 - Loss: 83.143\n",
      "Iter 94/200 - Loss: 83.074\n",
      "Iter 95/200 - Loss: 83.006\n",
      "Iter 96/200 - Loss: 82.940\n",
      "Iter 97/200 - Loss: 82.876\n",
      "Iter 98/200 - Loss: 82.813\n",
      "Iter 99/200 - Loss: 82.751\n",
      "Iter 100/200 - Loss: 82.691\n",
      "Iter 101/200 - Loss: 82.631\n",
      "Iter 102/200 - Loss: 82.574\n",
      "Iter 103/200 - Loss: 82.517\n",
      "Iter 104/200 - Loss: 82.461\n",
      "Iter 105/200 - Loss: 82.406\n",
      "Iter 106/200 - Loss: 82.353\n",
      "Iter 107/200 - Loss: 82.300\n",
      "Iter 108/200 - Loss: 82.249\n",
      "Iter 109/200 - Loss: 82.198\n",
      "Iter 110/200 - Loss: 82.149\n",
      "Iter 111/200 - Loss: 82.100\n",
      "Iter 112/200 - Loss: 82.053\n",
      "Iter 113/200 - Loss: 82.006\n",
      "Iter 114/200 - Loss: 81.960\n",
      "Iter 115/200 - Loss: 81.915\n",
      "Iter 116/200 - Loss: 81.871\n",
      "Iter 117/200 - Loss: 81.828\n",
      "Iter 118/200 - Loss: 81.785\n",
      "Iter 119/200 - Loss: 81.743\n",
      "Iter 120/200 - Loss: 81.701\n",
      "Iter 121/200 - Loss: 81.661\n",
      "Iter 122/200 - Loss: 81.622\n",
      "Iter 123/200 - Loss: 81.583\n",
      "Iter 124/200 - Loss: 81.544\n",
      "Iter 125/200 - Loss: 81.507\n",
      "Iter 126/200 - Loss: 81.470\n",
      "Iter 127/200 - Loss: 81.433\n",
      "Iter 128/200 - Loss: 81.398\n",
      "Iter 129/200 - Loss: 81.362\n",
      "Iter 130/200 - Loss: 81.328\n",
      "Iter 131/200 - Loss: 81.294\n",
      "Iter 132/200 - Loss: 81.261\n",
      "Iter 133/200 - Loss: 81.228\n",
      "Iter 134/200 - Loss: 81.196\n",
      "Iter 135/200 - Loss: 81.164\n",
      "Iter 136/200 - Loss: 81.133\n",
      "Iter 137/200 - Loss: 81.102\n",
      "Iter 138/200 - Loss: 81.072\n",
      "Iter 139/200 - Loss: 81.042\n",
      "Iter 140/200 - Loss: 81.013\n",
      "Iter 141/200 - Loss: 80.984\n",
      "Iter 142/200 - Loss: 80.956\n",
      "Iter 143/200 - Loss: 80.928\n",
      "Iter 144/200 - Loss: 80.901\n",
      "Iter 145/200 - Loss: 80.874\n",
      "Iter 146/200 - Loss: 80.848\n",
      "Iter 147/200 - Loss: 80.822\n",
      "Iter 148/200 - Loss: 80.797\n",
      "Iter 149/200 - Loss: 80.772\n",
      "Iter 150/200 - Loss: 80.747\n",
      "Iter 151/200 - Loss: 80.723\n",
      "Iter 152/200 - Loss: 80.699\n",
      "Iter 153/200 - Loss: 80.675\n",
      "Iter 154/200 - Loss: 80.652\n",
      "Iter 155/200 - Loss: 80.630\n",
      "Iter 156/200 - Loss: 80.607\n",
      "Iter 157/200 - Loss: 80.585\n",
      "Iter 158/200 - Loss: 80.564\n",
      "Iter 159/200 - Loss: 80.543\n",
      "Iter 160/200 - Loss: 80.522\n",
      "Iter 161/200 - Loss: 80.501\n",
      "Iter 162/200 - Loss: 80.481\n",
      "Iter 163/200 - Loss: 80.461\n",
      "Iter 164/200 - Loss: 80.442\n",
      "Iter 165/200 - Loss: 80.422\n",
      "Iter 166/200 - Loss: 80.403\n",
      "Iter 167/200 - Loss: 80.385\n",
      "Iter 168/200 - Loss: 80.367\n",
      "Iter 169/200 - Loss: 80.349\n",
      "Iter 170/200 - Loss: 80.331\n",
      "Iter 171/200 - Loss: 80.314\n",
      "Iter 172/200 - Loss: 80.296\n",
      "Iter 173/200 - Loss: 80.280\n",
      "Iter 174/200 - Loss: 80.263\n",
      "Iter 175/200 - Loss: 80.247\n",
      "Iter 176/200 - Loss: 80.231\n",
      "Iter 177/200 - Loss: 80.215\n",
      "Iter 178/200 - Loss: 80.200\n",
      "Iter 179/200 - Loss: 80.185\n",
      "Iter 180/200 - Loss: 80.169\n",
      "Iter 181/200 - Loss: 80.155\n",
      "Iter 182/200 - Loss: 80.140\n",
      "Iter 183/200 - Loss: 80.126\n",
      "Iter 184/200 - Loss: 80.112\n",
      "Iter 185/200 - Loss: 80.098\n",
      "Iter 186/200 - Loss: 80.085\n",
      "Iter 187/200 - Loss: 80.072\n",
      "Iter 188/200 - Loss: 80.058\n",
      "Iter 189/200 - Loss: 80.045\n",
      "Iter 190/200 - Loss: 80.033\n",
      "Iter 191/200 - Loss: 80.020\n",
      "Iter 192/200 - Loss: 80.008\n",
      "Iter 193/200 - Loss: 79.996\n",
      "Iter 194/200 - Loss: 79.984\n",
      "Iter 195/200 - Loss: 79.972\n",
      "Iter 196/200 - Loss: 79.961\n",
      "Iter 197/200 - Loss: 79.949\n",
      "Iter 198/200 - Loss: 79.938\n",
      "Iter 199/200 - Loss: 79.927\n",
      "Iter 200/200 - Loss: 79.916\n",
      "Training completed in 61.09086346626282 seconds\n"
     ]
    }
   ],
   "source": [
    "# load data\n",
    "train_data = pd.read_csv(\"../Dataset/superSurvey_clean_train_data.csv\", index_col=0)\n",
    "test_data = pd.read_csv(\"../Dataset/superSurvey_clean_test_data.csv\", index_col=0)\n",
    "\n",
    "# transform data\n",
    "train_x, train_y, train_N, train_theta = transform_data(train_data)\n",
    "test_x, test_y, test_N, test_theta = transform_data(test_data)\n",
    "\n",
    "# transfers the PyTorch tensors to GPU\n",
    "train_x, train_y, train_N, train_theta = train_x.to(device), train_y.to(device), train_N.to(device), train_theta.to(device)\n",
    "test_x, test_y, test_N, test_theta = test_x.to(device), test_y.to(device), test_N.to(device), test_theta.to(device)\n",
    "\n",
    "# normalize data\n",
    "train_x = (train_x - train_x.mean(0)) / train_x.std(0)\n",
    "test_x = (test_x - test_x.mean(0)) / test_x.std(0)\n",
    "\n",
    "# initialize likelihood and GP model\n",
    "likelihood = BinomialLikelihood(n_trials=train_N).to(device)\n",
    "model = BinomialGPModel(train_x=train_x).float().to(device)\n",
    "\n",
    "training_iterations = 200\n",
    "\n",
    "### Hyperparameter ###\n",
    "# initialize the lengthscale hyperparameters of the GP's covariance function\n",
    "# (lengthscale determines how much influence each input feature has on the GP's prediction)\n",
    "# train_x.std(0, unbiased=False) computes the SD of each feature (column) in the training data\n",
    "# unbiased=False ensures that the SD is calculated using the population formula (denominator n)\n",
    "# rather than the sample formula (denominator n-1)\n",
    "# 1 / train_x.std(0, unbiased=False) inverts the SD to set the initial lengthscales\n",
    "# inversely proportional to the variability of each feature\n",
    "# features with higher variability receive smaller initial lengthscales\n",
    "# this indicates they might have a more significant impact on the model's predictions\n",
    "lengthscale_init = 1 / train_x.std(0, unbiased=False)  \n",
    "\n",
    "# calculate the proportion of successes (y) out of total trials (n) for each training sample\n",
    "y_over_n = train_y / train_N\n",
    "\n",
    "# clamp values to be within (0,1) since the inverse CDF is undefined at 0 and 1\n",
    "y_over_n_clamped = y_over_n.clamp(min=0.001, max=0.999)\n",
    "\n",
    "# transform the clamped proportion using the inverse CDF of the standard normal distribution \n",
    "# this maps the proportions to the latent variable space assumed by the GP model\n",
    "theta_transformed = torch.distributions.Normal(0, 1).icdf(y_over_n_clamped)\n",
    "\n",
    "# calculate the SD of the transformed data to set the inital output scale\n",
    "output_scale_init = theta_transformed.std(unbiased=False).item()\n",
    "\n",
    "# initialize hyperparameters\n",
    "hypers = {\n",
    "    'mean_module.bias': torch.tensor(0.),\n",
    "    'covar_module.base_kernel.lengthscale': lengthscale_init,\n",
    "    'covar_module.outputscale': torch.tensor(output_scale_init),\n",
    "}\n",
    "model.initialize(**hypers)\n",
    "\n",
    "# put both the GP model and likelihood into training mode\n",
    "model.train()\n",
    "likelihood.train()\n",
    "\n",
    "# initialize Adam optimizer to update model's parameters based on\n",
    "# computed gradients during training\n",
    "optimizer = torch.optim.Adam(model.parameters(), lr=0.01)\n",
    "\n",
    "# define the loss function (ELBO)\n",
    "mll = gpytorch.mlls.VariationalELBO(likelihood, model, train_y.numel())\n",
    "\n",
    "start = time.time()\n",
    "\n",
    "for i in range(training_iterations):\n",
    "    # clear previously accumulated gradients to prevent them from being\n",
    "    # mixed with the current iteration's gradients\n",
    "    optimizer.zero_grad()\n",
    "\n",
    "    # passes the training input features through the GP model to obtain the\n",
    "    # predictive output\n",
    "    output = model(train_x)\n",
    "    \n",
    "    # calculate the negative ELBO by evaluating the mll (variational ELBO)\n",
    "    # on the model's output and the target variable train_y\n",
    "    # minimizing negative ELBO = maximizing ELBO\n",
    "    # this balances the data fit and model complexity \n",
    "    loss = -mll(output, train_y)\n",
    "\n",
    "    # compute the gradients of the loss with respect to the model's parameters\n",
    "    loss.backward()\n",
    "\n",
    "    # update model's parameters on the computed gradients and the Adam's update rule\n",
    "    optimizer.step()\n",
    "    \n",
    "    print('Iter %d/%d - Loss: %.3f' % (i + 1, training_iterations, loss.item()))\n",
    "\n",
    "end = time.time()\n",
    "\n",
    "print(f\"Training completed in {end - start} seconds\")"
   ]
  },
  {
   "cell_type": "code",
   "execution_count": 15,
   "metadata": {},
   "outputs": [
    {
     "data": {
      "text/plain": [
       "tensor([[2.3737, 2.3744, 1.4577, 1.4652, 1.9657, 0.7110]], device='cuda:0',\n",
       "       grad_fn=<SoftplusBackward0>)"
      ]
     },
     "execution_count": 15,
     "metadata": {},
     "output_type": "execute_result"
    }
   ],
   "source": [
    "model.covar_module.base_kernel.lengthscale "
   ]
  },
  {
   "cell_type": "code",
   "execution_count": 16,
   "metadata": {},
   "outputs": [
    {
     "data": {
      "text/plain": [
       "Text(0.5, 1.0, 'training data')"
      ]
     },
     "execution_count": 16,
     "metadata": {},
     "output_type": "execute_result"
    },
    {
     "data": {
      "image/png": "[encoded data removed]",
      "text/plain": [
       "<Figure size 432x288 with 1 Axes>"
      ]
     },
     "metadata": {
      "needs_background": "light"
     },
     "output_type": "display_data"
    }
   ],
   "source": [
    "model.eval()\n",
    "likelihood.eval()\n",
    "\n",
    "with torch.no_grad():\n",
    "    f_pred = model(train_x)\n",
    "    mu = f_pred.mean.cpu().numpy()\n",
    "\n",
    "if torch.is_tensor(train_theta) and train_theta.is_cuda:\n",
    "    train_theta = train_theta.cpu().numpy()\n",
    "elif not isinstance(train_theta, np.ndarray):\n",
    "    train_theta = np.array(train_theta)\n",
    "\n",
    "# calculate CDFs for test data\n",
    "def calculate_cdf(data):\n",
    "    sorted_data = np.sort(data)\n",
    "    cdf = np.arange(1, len(sorted_data) + 1) / len(sorted_data)\n",
    "    return sorted_data, cdf\n",
    "    \n",
    "sorted_train_theta, cdf_train_theta = calculate_cdf(train_theta)\n",
    "sorted_mu, cdf_mu = calculate_cdf(mu)\n",
    "\n",
    "# plotting the CDFs for test data\n",
    "plt.scatter(sorted_train_theta, cdf_mu)\n",
    "plt.xlabel(\"actual theta\")\n",
    "plt.ylabel(\"cdf est theta\")\n",
    "plt.title(\"training data\")\n"
   ]
  },
  {
   "cell_type": "code",
   "execution_count": 17,
   "metadata": {},
   "outputs": [
    {
     "data": {
      "text/plain": [
       "Text(0.5, 1.0, 'testing data')"
      ]
     },
     "execution_count": 17,
     "metadata": {},
     "output_type": "execute_result"
    },
    {
     "data": {
      "image/png": "[encoded data removed]",
      "text/plain": [
       "<Figure size 432x288 with 1 Axes>"
      ]
     },
     "metadata": {
      "needs_background": "light"
     },
     "output_type": "display_data"
    }
   ],
   "source": [
    "model.eval()\n",
    "likelihood.eval()\n",
    "\n",
    "with torch.no_grad():\n",
    "    f_pred2 = model(test_x)\n",
    "    mu2 = f_pred2.mean.cpu().numpy()\n",
    "\n",
    "if torch.is_tensor(test_theta) and test_theta.is_cuda:\n",
    "    test_theta = test_theta.cpu().numpy()\n",
    "elif not isinstance(test_theta, np.ndarray):\n",
    "    test_theta = np.array(test_theta)\n",
    "\n",
    "# calculate CDFs for test data\n",
    "sorted_test_theta, cdf_test_theta = calculate_cdf(test_theta)\n",
    "sorted_mu2, cdf_mu2 = calculate_cdf(mu2)\n",
    "\n",
    "# plotting the CDFs for test data\n",
    "plt.scatter(sorted_test_theta,cdf_mu2)\n",
    "plt.xlabel(\"actual theta\")\n",
    "plt.ylabel(\"cdf est theta\")\n",
    "plt.title(\"testing data\")"
   ]
  },
  {
   "cell_type": "code",
   "execution_count": null,
   "metadata": {
    "colab": {
     "base_uri": "https://localhost:8080/"
    },
    "id": "UZpldSvn8jgp",
    "outputId": "c1234c2e-5c08-4318-c0ee-3b00ace23c4c"
   },
   "outputs": [
    {
     "name": "stdout",
     "output_type": "stream",
     "text": [
      "data.csv  Model_running.ipynb  rho.csv\ttest_data.csv  train_data.csv\n"
     ]
    }
   ],
   "source": [
    "# !ls /content/drive/My\\ Drive/Colab\\ Notebooks/Model/"
   ]
  },
  {
   "cell_type": "code",
   "execution_count": 50,
   "metadata": {
    "id": "Xwo6zwXh8jvH"
   },
   "outputs": [],
   "source": [
    "# # path for saving\n",
    "# model_path = \"/home/alexis/Downloads/superSurvey_model.pth\"\n",
    "# optimizer_path = \"/home/alexis/Downloads/superSurvey_optimizer.pth\"\n",
    "\n",
    "# # save the model state\n",
    "# torch.save(model.state_dict(), model_path)\n",
    "\n",
    "# # save the optimizer state\n",
    "# torch.save(optimizer.state_dict(), optimizer_path)"
   ]
  }
 ],
 "metadata": {
  "colab": {
   "provenance": []
  },
  "kernelspec": {
   "display_name": "Python 3",
   "language": "python",
   "name": "python3"
  },
  "language_info": {
   "codemirror_mode": {
    "name": "ipython",
    "version": 3
   },
   "file_extension": ".py",
   "mimetype": "text/x-python",
   "name": "python",
   "nbconvert_exporter": "python",
   "pygments_lexer": "ipython3",
   "version": "3.8.12"
  }
 },
 "nbformat": 4,
 "nbformat_minor": 4
}
